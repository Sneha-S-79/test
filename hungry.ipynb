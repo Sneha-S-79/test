{
 "cells": [
  {
   "cell_type": "code",
   "execution_count": 14,
   "id": "e5c750b1-6cf8-4a78-83b7-6b7a61e6ca35",
   "metadata": {},
   "outputs": [
    {
     "name": "stdin",
     "output_type": "stream",
     "text": [
      "Are you Hungry no\n"
     ]
    },
    {
     "name": "stdout",
     "output_type": "stream",
     "text": [
      "do your homewrok\n"
     ]
    }
   ],
   "source": [
    "hungry = input(\"Are you Hungry\")\n",
    "if hungry == \"yes\":\n",
    "    print(\"eat samosa!\")\n",
    "else:\n",
    "    print(\"do your homewrok\")"
   ]
  },
  {
   "cell_type": "code",
   "execution_count": null,
   "id": "652dc6df-b02a-4e44-bfaf-502aa788917a",
   "metadata": {},
   "outputs": [],
   "source": []
  }
 ],
 "metadata": {
  "kernelspec": {
   "display_name": "Python 3 (ipykernel)",
   "language": "python",
   "name": "python3"
  },
  "language_info": {
   "codemirror_mode": {
    "name": "ipython",
    "version": 3
   },
   "file_extension": ".py",
   "mimetype": "text/x-python",
   "name": "python",
   "nbconvert_exporter": "python",
   "pygments_lexer": "ipython3",
   "version": "3.10.11"
  }
 },
 "nbformat": 4,
 "nbformat_minor": 5
}
